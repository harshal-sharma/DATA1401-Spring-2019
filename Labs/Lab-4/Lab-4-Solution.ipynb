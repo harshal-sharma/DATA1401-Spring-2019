{
 "cells": [
  {
   "cell_type": "markdown",
   "metadata": {},
   "source": [
    "## Lab 4\n",
    "\n",
    "In this lab we will become familiar with distributions, histograms, and functional programming. \n",
    "\n",
    "\n",
    "### Uniform Distribution\n",
    "Lets start with generating some fake random data. You can get a random number between 0 and 1 using the python random module as follow:"
   ]
  },
  {
   "cell_type": "code",
   "execution_count": 38,
   "metadata": {},
   "outputs": [
    {
     "name": "stdout",
     "output_type": "stream",
     "text": [
      "The Value of x is 0.48580250255\n"
     ]
    }
   ],
   "source": [
    "import random\n",
    "x=random.random()\n",
    "print \"The Value of x is\", x"
   ]
  },
  {
   "cell_type": "markdown",
   "metadata": {},
   "source": [
    "Everytime you call random, you will get a new number.\n",
    "\n",
    "*Exercise 1:* Using random, write a function `generate_uniform(N, mymin, mymax)`, that returns a python list containing N random numbers between specified minimum and maximum value. Note that you may want to quickly work out on paper how to turn numbers between 0 and 1 to between other values. "
   ]
  },
  {
   "cell_type": "code",
   "execution_count": 11,
   "metadata": {
    "collapsed": true
   },
   "outputs": [],
   "source": [
    "# Skeleton\n",
    "import random\n",
    "def generate_uniform(N,min,max):\n",
    "    out = []\n",
    "    ### BEGIN SOLUTION\n",
    "    out = []\n",
    "    for i in range (0,N):\n",
    "        out.append(random.random()*(max-min)+min)\n",
    "    return out \n",
    "    ### END SOLUTION"
   ]
  },
  {
   "cell_type": "code",
   "execution_count": 12,
   "metadata": {},
   "outputs": [
    {
     "name": "stdout",
     "output_type": "stream",
     "text": [
      "Data Type: <type 'list'>\n",
      "Data Length: 1000\n",
      "Type of Data Contents: <type 'float'>\n",
      "Data Minimum: -9.98519902629\n",
      "Data Maximum: 9.96424423648\n"
     ]
    }
   ],
   "source": [
    "# Test you solution here\n",
    "data=generate_uniform(1000,-10,10)\n",
    "print \"Data Type:\", type(data)\n",
    "print \"Data Length:\", len(data)\n",
    "if len(data)>0: \n",
    "    print \"Type of Data Contents:\", type(data[0])\n",
    "    print \"Data Minimum:\", min(data)\n",
    "    print \"Data Maximum:\", max(data)"
   ]
  },
  {
   "cell_type": "markdown",
   "metadata": {},
   "source": [
    "*Exercise 2a:* \n",
    "Write a function that computes the mean of values in a list."
   ]
  },
  {
   "cell_type": "code",
   "execution_count": 41,
   "metadata": {
    "collapsed": true
   },
   "outputs": [],
   "source": [
    "# Skeleton\n",
    "def mean(Data):\n",
    "    m=0.\n",
    "    \n",
    "    ### BEGIN SOLUTION\n",
    "\n",
    "    m=sum(Data)/len(Data)       \n",
    "    \n",
    "    ### END SOLUTION\n",
    "    \n",
    "    return m"
   ]
  },
  {
   "cell_type": "code",
   "execution_count": 42,
   "metadata": {},
   "outputs": [
    {
     "name": "stdout",
     "output_type": "stream",
     "text": [
      "Mean of Data: -0.126412389002\n"
     ]
    }
   ],
   "source": [
    "# Test your solution here\n",
    "print \"Mean of Data:\", mean(data)"
   ]
  },
  {
   "cell_type": "markdown",
   "metadata": {},
   "source": [
    "*Exercise 2b:* \n",
    "Write a function that computes the variance of values in a list."
   ]
  },
  {
   "cell_type": "code",
   "execution_count": 47,
   "metadata": {},
   "outputs": [
    {
     "name": "stdout",
     "output_type": "stream",
     "text": [
      "\n"
     ]
    }
   ],
   "source": [
    "# Skeleton\n",
    "def variance(Data):\n",
    "    m=0.\n",
    "    \n",
    "    ### BEGIN SOLUTION   \n",
    "    m= sum(map(lambda y:y**2,Data))/float(len(Data))-mean(Data)**2 \n",
    "    ### END SOLUTION\n",
    "    \n",
    "    return m"
   ]
  },
  {
   "cell_type": "code",
   "execution_count": 48,
   "metadata": {},
   "outputs": [
    {
     "name": "stdout",
     "output_type": "stream",
     "text": [
      "Variance of Data: 31.8223732393\n"
     ]
    }
   ],
   "source": [
    "# Test your solution here\n",
    "print \"Variance of Data:\", variance(data)"
   ]
  },
  {
   "cell_type": "markdown",
   "metadata": {},
   "source": [
    "## Histogramming"
   ]
  },
  {
   "cell_type": "markdown",
   "metadata": {},
   "source": [
    "*Exercise 3:* Write a function that bins the data so that you can create a histogram. An example of how to implement histogramming is the following logic:\n",
    "\n",
    "* User inputs a list of values `x` and optionally `n_bins` which defaults to 10.\n",
    "* If not supplied, find the minimum and maximum (`x_min`,`x_max`) of the values in x.\n",
    "* Determine the bin size (`bin_size`) by dividing the range of the function by the number of bins.\n",
    "* Create an empty list of zeros of size `n_bins`, call it `hist`.\n",
    "* Loop over the values in `x`\n",
    "    * Loop over the values in `hist` with index `i`:\n",
    "        * If x is between `x_min+i*bin_size` and `x_min+i*2*bin_size`, increment `hist[i].` \n",
    "        * For efficiency, try to use continue to goto the next bin and data point.\n",
    "* Return `hist` and the list corresponding of the bin edges (i.e. of `x_min+i*bin_size`).    "
   ]
  },
  {
   "cell_type": "code",
   "execution_count": 13,
   "metadata": {
    "collapsed": true
   },
   "outputs": [],
   "source": [
    "# Solution\n",
    "def histogram(x,n_bins=10,x_min=None,x_max=None):\n",
    "    ### BEGIN SOLUTION\n",
    "\n",
    "    if x_min==None or x_max==None:\n",
    "        x_min=min(x)\n",
    "        x_max=max(x)\n",
    "    bin_size=(x_max-x_min)/n_bins\n",
    "    hist=[0]*n_bins\n",
    "    for y in x:\n",
    "        for i in range(len(hist)):\n",
    "            if  x_min+i*bin_size<y and y<x_min+i*2*bin_size:\n",
    "                hist[i]+=1\n",
    "   \n",
    "    bin_edges=[]\n",
    "    for z in range (n_bins+1):\n",
    "        bin_edges.append(x_min+z*bin_size)\n",
    "\n",
    "    print x_min,x_max\n",
    "        \n",
    "    \n",
    "    ### END SOLUTION\n",
    "\n",
    "    return hist,bin_edges"
   ]
  },
  {
   "cell_type": "code",
   "execution_count": 14,
   "metadata": {},
   "outputs": [
    {
     "name": "stdout",
     "output_type": "stream",
     "text": [
      "-9.98519902629 9.96424423648\n",
      "[0, 18, 22, 31, 37, 52, 65, 69, 79, 87, 90, 100, 115, 127, 133, 144, 146, 155, 170, 178, 180, 192, 199, 213, 225, 232, 250, 265, 280, 295, 311, 326, 342, 353, 359, 363, 376, 391, 406, 423, 436, 439, 445, 450, 463, 464, 467, 472, 481, 500, 506, 497, 485, 474, 461, 447, 441, 429, 414, 405, 389, 376, 367, 356, 345, 337, 324, 317, 307, 297, 293, 281, 269, 255, 248, 238, 225, 214, 204, 194, 182, 175, 165, 157, 149, 140, 134, 127, 115, 108, 102, 94, 86, 78, 63, 56, 47, 30, 21, 14]\n"
     ]
    }
   ],
   "source": [
    "# Test your solution here\n",
    "h,b=histogram(data,100)\n",
    "print h"
   ]
  },
  {
   "cell_type": "markdown",
   "metadata": {},
   "source": [
    "*Exercise 4:* Write a function that uses the histogram function in the previous exercise to create a text-based \"graph\". For example the output could look like the following:\n",
    "```\n",
    "[  0,  9] : ######\n",
    "[  1,  2] : #####\n",
    "[  2,  3] : ######\n",
    "[  3,  4] : ####\n",
    "[  4,  5] : ####\n",
    "[  5,  6] : ######\n",
    "[  6,  7] : #####\n",
    "[  7,  8] : ######\n",
    "[  8,  9] : ####\n",
    "[  9, 10] : #####\n",
    "```\n",
    "\n",
    "Where each line corresponds to a bin and the number of `#`'s are proportional to the value of the data in the bin. "
   ]
  },
  {
   "cell_type": "code",
   "execution_count": 15,
   "metadata": {
    "collapsed": true
   },
   "outputs": [],
   "source": [
    "# Solution\n",
    "def draw_histogram(h,b,n_bins=20,character=\"#\",max_character_per_line=20):\n",
    "    counter=0\n",
    "    res=h\n",
    "    for x in range(len(h)):\n",
    "        if h[x]>max_character_per_line:\n",
    "            res[x]=max_character_per_line\n",
    "    while counter<n_bins:\n",
    "        print \"[\",b[counter],b[counter+1],\"]: \",res[counter]*character\n",
    "        counter+=1\n",
    "\n",
    "    return"
   ]
  },
  {
   "cell_type": "code",
   "execution_count": 17,
   "metadata": {},
   "outputs": [
    {
     "name": "stdout",
     "output_type": "stream",
     "text": [
      "-9.98519902629 9.96424423648\n",
      "[ -9.98519902629 -8.98772686315 ]:  \n",
      "[ -8.98772686315 -7.99025470001 ]:  ####################################################\n",
      "[ -7.99025470001 -6.99278253687 ]:  ######################################################################\n",
      "[ -6.99278253687 -5.99531037373 ]:  ######################################################################\n",
      "[ -5.99531037373 -4.9978382106 ]:  ######################################################################\n",
      "[ -4.9978382106 -4.00036604746 ]:  ######################################################################\n",
      "[ -4.00036604746 -3.00289388432 ]:  ######################################################################\n",
      "[ -3.00289388432 -2.00542172118 ]:  ######################################################################\n",
      "[ -2.00542172118 -1.00794955804 ]:  ######################################################################\n",
      "[ -1.00794955804 -0.0104773949026 ]:  ######################################################################\n",
      "[ -0.0104773949026 0.986994768236 ]:  ######################################################################\n",
      "[ 0.986994768236 1.98446693137 ]:  ######################################################################\n",
      "[ 1.98446693137 2.98193909451 ]:  ######################################################################\n",
      "[ 2.98193909451 3.97941125765 ]:  ######################################################################\n",
      "[ 3.97941125765 4.97688342079 ]:  ######################################################################\n",
      "[ 4.97688342079 5.97435558393 ]:  ######################################################################\n",
      "[ 5.97435558393 6.97182774707 ]:  ######################################################################\n",
      "[ 6.97182774707 7.96929991021 ]:  ######################################################################\n",
      "[ 7.96929991021 8.96677207335 ]:  ######################################################################\n",
      "[ 8.96677207335 9.96424423648 ]:  ########################################################\n"
     ]
    }
   ],
   "source": [
    "# Test your solution here\n",
    "h,b=histogram(data,20)\n",
    "draw_histogram(h,b,20,'#',70)"
   ]
  },
  {
   "cell_type": "markdown",
   "metadata": {},
   "source": [
    "## Functional Programming\n",
    "\n",
    "*Exercise 5:* Write a function the applies a booling function (that returns true/false) to every element in data, and return a list of indices of elements where the result was true. Use this function to find the indices of entries greater than 0.5. "
   ]
  },
  {
   "cell_type": "code",
   "execution_count": 18,
   "metadata": {},
   "outputs": [],
   "source": [
    "def where(mylist,myfunc):\n",
    "    out= []\n",
    "    indices=[]\n",
    "    ### BEGIN SOLUTION\n",
    "    i=0\n",
    "    counter=True\n",
    "    while counter==True:\n",
    "        try:\n",
    "            if myfunc[i]==1:\n",
    "                indices.append(i)\n",
    "            i+=1\n",
    "        except IndexError:\n",
    "            counter=False\n",
    "    return indices\n",
    "\n",
    "def ind_list(x):\n",
    "    out= []\n",
    "    for j in range (0,len(x)):\n",
    "        if x[j]>0.5:\n",
    "            out.append(True)\n",
    "        else:\n",
    "            out.append(False)\n",
    "           \n",
    "    \n",
    "    ### END SOLUTION\n",
    "    \n",
    "    return out"
   ]
  },
  {
   "cell_type": "code",
   "execution_count": 19,
   "metadata": {},
   "outputs": [
    {
     "name": "stdout",
     "output_type": "stream",
     "text": [
      "The value is greater than 0.5 at indices:  [0, 2, 3, 4, 8, 9, 11, 16, 18, 22, 26, 27, 28, 30, 35, 38, 39, 41, 43, 46, 47, 48, 49, 51, 52, 53, 55, 56, 59, 61, 63, 65, 67, 68, 69, 70, 72, 74, 82, 83, 84, 88, 90, 93, 94, 96, 100, 101, 105, 106, 108, 113, 115, 116, 118, 122, 123, 124, 126, 127, 128, 129, 130, 133, 134, 135, 137, 139, 142, 143, 144, 145, 147, 150, 151, 152, 153, 154, 156, 157, 158, 160, 161, 162, 165, 167, 168, 169, 171, 176, 177, 179, 180, 183, 193, 196, 200, 203, 205, 207, 210, 212, 214, 219, 223, 224, 226, 228, 229, 231, 235, 236, 237, 241, 245, 247, 248, 249, 251, 253, 256, 257, 260, 262, 263, 266, 269, 270, 273, 274, 275, 276, 278, 280, 281, 285, 286, 288, 290, 294, 297, 299, 300, 302, 303, 305, 306, 308, 309, 311, 312, 313, 314, 317, 320, 321, 322, 324, 325, 328, 330, 333, 334, 335, 336, 337, 339, 340, 341, 343, 346, 347, 349, 350, 351, 352, 356, 357, 359, 362, 365, 374, 377, 378, 382, 383, 384, 386, 387, 389, 393, 394, 395, 398, 400, 402, 405, 406, 413, 415, 417, 420, 421, 422, 423, 425, 430, 432, 438, 441, 444, 447, 448, 449, 451, 453, 455, 456, 460, 463, 468, 470, 472, 474, 475, 476, 477, 478, 479, 481, 482, 486, 488, 490, 491, 492, 493, 495, 496, 497, 498, 501, 504, 505, 506, 507, 508, 509, 513, 514, 515, 517, 518, 522, 523, 524, 525, 531, 533, 534, 537, 538, 543, 546, 549, 551, 554, 555, 556, 560, 561, 569, 570, 571, 573, 576, 582, 586, 589, 594, 597, 606, 607, 608, 615, 616, 617, 618, 619, 621, 623, 624, 626, 627, 628, 630, 631, 633, 634, 636, 639, 643, 648, 649, 651, 652, 654, 655, 656, 657, 658, 664, 665, 666, 667, 669, 671, 672, 673, 674, 675, 677, 680, 681, 684, 687, 688, 689, 690, 691, 694, 695, 696, 698, 701, 706, 708, 712, 713, 716, 720, 721, 723, 724, 726, 727, 728, 730, 732, 737, 739, 741, 742, 745, 747, 749, 751, 753, 762, 763, 765, 768, 769, 771, 772, 776, 778, 781, 784, 785, 790, 791, 792, 795, 796, 799, 804, 806, 809, 810, 812, 813, 814, 816, 817, 818, 822, 823, 825, 826, 828, 832, 835, 838, 839, 840, 842, 843, 844, 848, 849, 850, 856, 859, 863, 867, 869, 871, 873, 874, 875, 878, 880, 881, 883, 884, 885, 886, 890, 891, 893, 894, 895, 900, 902, 906, 907, 908, 910, 914, 916, 918, 919, 921, 923, 924, 926, 927, 928, 931, 932, 934, 936, 937, 940, 942, 944, 945, 946, 947, 953, 955, 956, 957, 958, 960, 961, 963, 964, 965, 968, 970, 972, 974, 975, 976, 978, 979, 981, 986, 989, 991, 992, 993, 994, 995, 996, 999]\n"
     ]
    }
   ],
   "source": [
    "print \"The value is greater than 0.5 at indices: \",where(data,ind_list(data))"
   ]
  },
  {
   "cell_type": "markdown",
   "metadata": {},
   "source": [
    "*Exercise 6:* The inrange(mymin,mymax) function below returns a function that tests if it's input is between the specified values. Write corresponding functions that test:\n",
    "* Even\n",
    "* Odd\n",
    "* Greater than\n",
    "* Less than\n",
    "* Equal\n",
    "* Divisible by"
   ]
  },
  {
   "cell_type": "code",
   "execution_count": 65,
   "metadata": {},
   "outputs": [
    {
     "ename": "NameError",
     "evalue": "name 'inrange' is not defined",
     "output_type": "error",
     "traceback": [
      "\u001b[0;31m\u001b[0m",
      "\u001b[0;31mNameError\u001b[0mTraceback (most recent call last)",
      "\u001b[0;32m<ipython-input-65-e2b9660e3e34>\u001b[0m in \u001b[0;36m<module>\u001b[0;34m()\u001b[0m\n\u001b[1;32m      5\u001b[0m \u001b[0;34m\u001b[0m\u001b[0m\n\u001b[1;32m      6\u001b[0m \u001b[0;31m# Examples:\u001b[0m\u001b[0;34m\u001b[0m\u001b[0;34m\u001b[0m\u001b[0m\n\u001b[0;32m----> 7\u001b[0;31m \u001b[0mF1\u001b[0m\u001b[0;34m=\u001b[0m\u001b[0minrange\u001b[0m\u001b[0;34m(\u001b[0m\u001b[0;36m0\u001b[0m\u001b[0;34m,\u001b[0m\u001b[0;36m10\u001b[0m\u001b[0;34m)\u001b[0m\u001b[0;34m\u001b[0m\u001b[0m\n\u001b[0m\u001b[1;32m      8\u001b[0m \u001b[0mF2\u001b[0m\u001b[0;34m=\u001b[0m\u001b[0minrange\u001b[0m\u001b[0;34m(\u001b[0m\u001b[0;36m10\u001b[0m\u001b[0;34m,\u001b[0m\u001b[0;36m20\u001b[0m\u001b[0;34m)\u001b[0m\u001b[0;34m\u001b[0m\u001b[0m\n\u001b[1;32m      9\u001b[0m \u001b[0;34m\u001b[0m\u001b[0m\n",
      "\u001b[0;31mNameError\u001b[0m: name 'inrange' is not defined"
     ]
    }
   ],
   "source": [
    "def in_range(mymin,mymax):\n",
    "    def testrange(x):\n",
    "        return x<mymax and x>=mymin\n",
    "    return testrange\n",
    "\n",
    "# Examples:\n",
    "F1=inrange(0,10)\n",
    "F2=inrange(10,20)\n",
    "\n",
    "# Test of in_range\n",
    "print F1(0), F1(1), F1(10), F1(15), F1(20)\n",
    "print F2(0), F2(1), F2(10), F2(15), F2(20)\n",
    "\n",
    "print \"Number of Entries passing F1:\", len(where(data,F1))\n",
    "print \"Number of Entries passing F2:\", len(where(data,F2))"
   ]
  },
  {
   "cell_type": "code",
   "execution_count": 21,
   "metadata": {
    "collapsed": true
   },
   "outputs": [],
   "source": [
    "### BEGIN SOLUTION\n",
    "\n",
    "def Even(x):\n",
    "    if (x%2) ==0: \n",
    "        print x, \" is even\"\n",
    "        return True\n",
    "    else:\n",
    "        print x, \" is not even\"\n",
    "        return False\n",
    "\n",
    "def Odd(x):\n",
    "    if (x%2) ==0:\n",
    "        print x,\" is not odd\"\n",
    "        return False\n",
    "    else:\n",
    "        print x,\" is odd\"\n",
    "        return True\n",
    "\n",
    "def Greater_than(x,y):\n",
    "    if x>y:\n",
    "        print x,\" is greater than \",y\n",
    "        return True\n",
    "    else:\n",
    "        print x, \"is not greater than \",y\n",
    "        return False\n",
    "    \n",
    "def Less_than(x,y):\n",
    "    if x<y:\n",
    "        print x,\" is less than \",y\n",
    "        return True\n",
    "    else:\n",
    "        print x,\" is not less than \",y\n",
    "        return False\n",
    "    \n",
    "def Equal(x,y):\n",
    "    if x==y:\n",
    "        print x,\" is equal to \",y\n",
    "        return True\n",
    "    else:\n",
    "        print x,\" is not equal to \",y\n",
    "        return False\n",
    "    \n",
    "def Divisible_by(x,y):\n",
    "    if x%y==0:\n",
    "        print x, \" is divisible by \",y\n",
    "        return True\n",
    "    else:\n",
    "        print x, \"is not divisible by \",y\n",
    "        return False        \n",
    "    \n",
    "### END SOLUTION"
   ]
  },
  {
   "cell_type": "code",
   "execution_count": 23,
   "metadata": {},
   "outputs": [
    {
     "name": "stdout",
     "output_type": "stream",
     "text": [
      "2  is even\n",
      "2  is not odd\n"
     ]
    }
   ],
   "source": [
    "result = Even(2)\n",
    "result = Odd(2)"
   ]
  },
  {
   "cell_type": "markdown",
   "metadata": {},
   "source": [
    "*Exercise 7:* Repeat the previous exercise using `lambda` and the built-in python functions sum and map instead of your solution above. "
   ]
  },
  {
   "cell_type": "code",
   "execution_count": null,
   "metadata": {
    "collapsed": true
   },
   "outputs": [],
   "source": [
    "### BEGIN SOLUTION\n",
    "\n",
    "    # Fill in your solution here        \n",
    "    \n",
    "### END SOLUTION"
   ]
  },
  {
   "cell_type": "markdown",
   "metadata": {},
   "source": [
    "## Monte Carlo\n",
    "\n",
    "*Exercise 7:* Write a \"generator\" function called `generate_function(func,x_min,x_max,N)`, that instead of generating a flat distribution, generates a distribution with functional form coded in `func`. Note that `func` will always be > 0.  \n",
    "\n",
    "Use the test function below and your histogramming functions above to demonstrate that your generator is working properly.\n",
    "\n",
    "Hint: A simple, but slow, solution is to a draw random number test_x within the specified range and another number p between the min and max of the function (which you will have to determine). If p<=function(test_x), then place test_x on the output. If not, repeat the process, drawing two new numbers. Repeat until you have the specified number of generated numbers, N. For this problem, it's OK to determine the min and max by numerically sampling the function.  "
   ]
  },
  {
   "cell_type": "code",
   "execution_count": 26,
   "metadata": {
    "collapsed": true
   },
   "outputs": [],
   "source": [
    "def generate_function(func,x_min,x_max,N):\n",
    "    out = list()\n",
    "    res = list(map(func, generate_uniform(N,x_min, x_max)))\n",
    "    p_min = min(res)\n",
    "    p_max = max(res)\n",
    "    condition=False\n",
    "    \n",
    "    while condition==False:\n",
    "        test_x=random.random()*(x_max - x_min) + x_min        \n",
    "        p=random.random()*(p_max - p_min) + p_min\n",
    "        \n",
    "        if p<=func(test_x):\n",
    "            out.append(test_x)\n",
    "            \n",
    "        if len(out)==N:\n",
    "            condition=True\n",
    "    \n",
    "    return out"
   ]
  },
  {
   "cell_type": "code",
   "execution_count": 27,
   "metadata": {},
   "outputs": [
    {
     "name": "stdout",
     "output_type": "stream",
     "text": [
      "-9.99390225304 9.99986920707\n",
      "[0, 69, 119, 126, 108, 77, 90, 139, 237, 406, 608, 592, 567, 535, 494, 440, 383, 308, 207, 121]\n",
      "[ -9.99390225304 -8.99421368004 ]:  \n",
      "[ -8.99421368004 -7.99452510703 ]:  ##################################################\n",
      "[ -7.99452510703 -6.99483653402 ]:  ##################################################\n",
      "[ -6.99483653402 -5.99514796102 ]:  ##################################################\n",
      "[ -5.99514796102 -4.99545938801 ]:  ##################################################\n",
      "[ -4.99545938801 -3.99577081501 ]:  ##################################################\n",
      "[ -3.99577081501 -2.996082242 ]:  ##################################################\n",
      "[ -2.996082242 -1.996393669 ]:  ##################################################\n",
      "[ -1.996393669 -0.996705095992 ]:  ##################################################\n",
      "[ -0.996705095992 0.00298347701334 ]:  ##################################################\n",
      "[ 0.00298347701334 1.00267205002 ]:  ##################################################\n",
      "[ 1.00267205002 2.00236062302 ]:  ##################################################\n",
      "[ 2.00236062302 3.00204919603 ]:  ##################################################\n",
      "[ 3.00204919603 4.00173776904 ]:  ##################################################\n",
      "[ 4.00173776904 5.00142634204 ]:  ##################################################\n",
      "[ 5.00142634204 6.00111491505 ]:  ##################################################\n",
      "[ 6.00111491505 7.00080348805 ]:  ##################################################\n",
      "[ 7.00080348805 8.00049206106 ]:  ##################################################\n",
      "[ 8.00049206106 9.00018063406 ]:  ##################################################\n",
      "[ 9.00018063406 9.99986920707 ]:  ##################################################\n"
     ]
    }
   ],
   "source": [
    "# A test function\n",
    "def test_func(x,a=1,b=1):\n",
    "    return abs(a*x+b)\n",
    "result=generate_function(test_func,-10,10,1000)\n",
    "h,b=histogram(result,20)\n",
    "print h\n",
    "draw_histogram(h,b,20,'#',50)"
   ]
  },
  {
   "cell_type": "markdown",
   "metadata": {},
   "source": [
    "*Exercise 8:* Use your function to generate 1000 numbers that are normal distributed, using the `gaussian` function below. Confirm the mean and variance of the data is close to the mean and variance you specify when building the Gaussian. Histogram the data. "
   ]
  },
  {
   "cell_type": "code",
   "execution_count": null,
   "metadata": {
    "collapsed": true
   },
   "outputs": [],
   "source": [
    "import math\n",
    "\n",
    "def gaussian(mean, sigma):\n",
    "    def f(x):\n",
    "        return math.exp(-((x-mean)**2)/(2*sigma**2))/math.sqrt(math.pi*sigma)\n",
    "    return f\n",
    "\n",
    "# Example Instantiation\n",
    "g1=gaussian(0,1)\n",
    "g2=gaussian(10,3)"
   ]
  },
  {
   "cell_type": "markdown",
   "metadata": {},
   "source": [
    "*Exercise 9:* Combine your `generate_function`, `where`, and `in_range` functions above to create an integrate function. Use your integrate function to show that approximately 68% of Normal distribution is within one variance."
   ]
  },
  {
   "cell_type": "code",
   "execution_count": null,
   "metadata": {
    "collapsed": true
   },
   "outputs": [],
   "source": [
    "def integrate(func, x_min, x_max, n_points=1000):\n",
    "    \n",
    "    return integral"
   ]
  },
  {
   "cell_type": "code",
   "execution_count": null,
   "metadata": {
    "collapsed": true
   },
   "outputs": [],
   "source": []
  }
 ],
 "metadata": {
  "kernelspec": {
   "display_name": "Python 2",
   "language": "python",
   "name": "python2"
  },
  "language_info": {
   "codemirror_mode": {
    "name": "ipython",
    "version": 2
   },
   "file_extension": ".py",
   "mimetype": "text/x-python",
   "name": "python",
   "nbconvert_exporter": "python",
   "pygments_lexer": "ipython2",
   "version": "2.7.13"
  }
 },
 "nbformat": 4,
 "nbformat_minor": 2
}
