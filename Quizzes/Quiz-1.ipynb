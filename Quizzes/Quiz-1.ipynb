{
 "cells": [
  {
   "cell_type": "code",
   "execution_count": 6,
   "metadata": {},
   "outputs": [],
   "source": [
    "import math\n",
    "import random\n",
    "    "
   ]
  },
  {
   "cell_type": "code",
   "execution_count": 39,
   "metadata": {},
   "outputs": [],
   "source": [
    "def generate_normal(N):\n",
    "    out=[]\n",
    "    for x in range(1,N):\n",
    "\n",
    "        U1=random.random()\n",
    "        U2=random.random()\n",
    "        Z1=math.sqrt(-2*math.log(U1))*math.cos(2*math.pi*U2)\n",
    "        \n",
    "        out.append(Z1)\n",
    "        \n",
    "    return out\n",
    "\n",
    "x = generate_normal(1000)\n",
    "\n",
    "def mean(x):\n",
    "    return sum(x)/float(len(x))\n",
    "\n",
    "def variance(x):\n",
    "    return sum(map(lambda y: y**2,x))/float(len(x)-mean(x)**2)"
   ]
  },
  {
   "cell_type": "code",
   "execution_count": 43,
   "metadata": {},
   "outputs": [
    {
     "name": "stdout",
     "output_type": "stream",
     "text": [
      "-0.0625706470798\n",
      "0.982419270762\n"
     ]
    }
   ],
   "source": [
    "\n",
    "\n",
    "y= mean(x)\n",
    "\n",
    "print y\n",
    "\n",
    "v= variance(x)\n",
    "\n",
    "print v"
   ]
  }
 ],
 "metadata": {
  "kernelspec": {
   "display_name": "Python 2",
   "language": "python",
   "name": "python2"
  },
  "language_info": {
   "codemirror_mode": {
    "name": "ipython",
    "version": 2
   },
   "file_extension": ".py",
   "mimetype": "text/x-python",
   "name": "python",
   "nbconvert_exporter": "python",
   "pygments_lexer": "ipython2",
   "version": "2.7.13"
  }
 },
 "nbformat": 4,
 "nbformat_minor": 2
}
