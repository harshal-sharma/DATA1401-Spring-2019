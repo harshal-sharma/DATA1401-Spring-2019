{
 "cells": [
  {
   "cell_type": "code",
   "execution_count": 2,
   "metadata": {
    "collapsed": true
   },
   "outputs": [],
   "source": [
    "# 2 a\n",
    "\n",
    "def constant(n,m,c):\n",
    "    out = [[c for x in range(n) ] for y in range(m)]\n",
    "    \n",
    "    return out"
   ]
  },
  {
   "cell_type": "code",
   "execution_count": 6,
   "metadata": {},
   "outputs": [
    {
     "name": "stdout",
     "output_type": "stream",
     "text": [
      "[[2, 2, 2], [2, 2, 2], [2, 2, 2], [2, 2, 2]]\n"
     ]
    }
   ],
   "source": [
    "#test your function here\n",
    "lis = constant(3,4,2)\n",
    "print lis"
   ]
  },
  {
   "cell_type": "code",
   "execution_count": 10,
   "metadata": {
    "collapsed": true
   },
   "outputs": [],
   "source": [
    "# 2 b\n",
    "\n",
    "# initializing matrix\n",
    "\n",
    "def zeros(n,m):\n",
    "    out=constant(n,m,0.0)\n",
    "    return out\n",
    "\n",
    "def ones(n,m):\n",
    "    out= constant(n,m,1.0)\n",
    "    return out\n"
   ]
  },
  {
   "cell_type": "code",
   "execution_count": 11,
   "metadata": {},
   "outputs": [
    {
     "name": "stdout",
     "output_type": "stream",
     "text": [
      "[[0.0, 0.0], [0.0, 0.0], [0.0, 0.0]]\n",
      "[[1.0], [1.0], [1.0], [1.0]]\n"
     ]
    }
   ],
   "source": [
    "# testing fn\n",
    "a=zeros(2,3)\n",
    "b=ones(1,4)\n",
    "print a\n",
    "print b"
   ]
  },
  {
   "cell_type": "code",
   "execution_count": 12,
   "metadata": {
    "collapsed": true
   },
   "outputs": [],
   "source": [
    "# 2 c\n",
    "\n",
    "def eye(n):\n",
    "    out = constant(n,n,0)\n",
    "    for x in range (len(out)):\n",
    "        for y in range(len(out[x])):\n",
    "            if x==y:\n",
    "                out[x][y]=1 \n",
    "                \n",
    "    return out"
   ]
  },
  {
   "cell_type": "code",
   "execution_count": 13,
   "metadata": {},
   "outputs": [
    {
     "name": "stdout",
     "output_type": "stream",
     "text": [
      "[[1, 0, 0, 0], [0, 1, 0, 0], [0, 0, 1, 0], [0, 0, 0, 1]]\n"
     ]
    }
   ],
   "source": [
    "#testing the fn\n",
    "\n",
    "lis = eye(4)\n",
    "print lis"
   ]
  },
  {
   "cell_type": "code",
   "execution_count": 30,
   "metadata": {
    "collapsed": true
   },
   "outputs": [],
   "source": [
    "# 3 b\n",
    "\n",
    "def row(M,n):\n",
    "    row = []\n",
    "    for x in range(len(M)):\n",
    "        if x == n-1:\n",
    "            row.append(M[x])\n",
    "            \n",
    "    return row\n",
    "\n",
    "def column(M,n):\n",
    "    col = []\n",
    "    for x in range(len(M)):\n",
    "        for y in range(len(M[x])):\n",
    "            if y == n-1:\n",
    "                col.append(M[x][y])\n",
    "                \n",
    "    return col"
   ]
  },
  {
   "cell_type": "code",
   "execution_count": 33,
   "metadata": {},
   "outputs": [
    {
     "name": "stdout",
     "output_type": "stream",
     "text": [
      "[4, 6]\n",
      "[[1, 3, 6]]\n"
     ]
    }
   ],
   "source": [
    "# test\n",
    "\n",
    "lis = [[3,2,4],[1,3,6]]\n",
    "a= column(lis,3)\n",
    "b= row(lis,2)\n",
    "print a\n",
    "print b"
   ]
  },
  {
   "cell_type": "code",
   "execution_count": 34,
   "metadata": {
    "collapsed": true
   },
   "outputs": [],
   "source": [
    "# 3 c\n",
    "\n",
    "def block(M,n_0,n_1,m_0,m_1):\n",
    "    out = [[0 for x in range(n_1)] for y in range(m_1)]\n",
    "    print out\n",
    "    \n",
    "    for x in range(n_0-1,n_1-1):\n",
    "        for y in range(m_0-1,m_1-1):\n",
    "            out.append(M[x][y])\n",
    "            \n",
    "    return out"
   ]
  },
  {
   "cell_type": "code",
   "execution_count": 37,
   "metadata": {},
   "outputs": [
    {
     "name": "stdout",
     "output_type": "stream",
     "text": [
      "[[0, 0, 0], [0, 0, 0]]\n",
      "[[0, 0, 0], [0, 0, 0], 1]\n"
     ]
    }
   ],
   "source": [
    "# Test\n",
    "a = [[5,2,6],[1,3,1],[5,8,7]]\n",
    "lis = block(a,2,3,1,2)\n",
    "print lis"
   ]
  },
  {
   "cell_type": "code",
   "execution_count": 38,
   "metadata": {},
   "outputs": [
    {
     "name": "stdout",
     "output_type": "stream",
     "text": [
      "[[3, 1, 5], [7, 2, 4]]\n"
     ]
    }
   ],
   "source": [
    "# 4 a\n",
    "\n",
    "def transpose(M):\n",
    "    \n",
    "    out = [[M[j][i] for j in range (len(M))] for i in range(len(M[0]))]\n",
    "    return out\n",
    "\n",
    "# test\n",
    "a= [[3,7],[1,2],[5,4]]\n",
    "b= transpose(a)\n",
    "print b"
   ]
  },
  {
   "cell_type": "code",
   "execution_count": 48,
   "metadata": {},
   "outputs": [
    {
     "name": "stdout",
     "output_type": "stream",
     "text": [
      "[[3072, 1536], [1024, 512], [3072, 2048]]\n"
     ]
    }
   ],
   "source": [
    "# 4 b\n",
    "\n",
    "def scalarmul(M,c):\n",
    "    for x in range(len(M)):\n",
    "        for y in range(len(M[x])):\n",
    "            M[x][y] = c * M[x][y]\n",
    "    return M\n",
    "\n",
    "#test\n",
    "a = [[1,4],[2,1],[4,4]]\n",
    "b = scalarmul(M,2)\n",
    "print b\n",
    "\n",
    "#tested out multiple times,so result is big"
   ]
  },
  {
   "cell_type": "code",
   "execution_count": 49,
   "metadata": {},
   "outputs": [
    {
     "name": "stdout",
     "output_type": "stream",
     "text": [
      "[[8, 8], [4, 5], [6, 5]]\n"
     ]
    }
   ],
   "source": [
    "# 4 c\n",
    "\n",
    "def add(M,N):\n",
    "    r = False\n",
    "    c = True\n",
    "    if len(M) == len(N):\n",
    "        r = True\n",
    "\n",
    "        \n",
    "    for x in range(len(M)):\n",
    "        if len(M[x]) != len(N[x]):\n",
    "            c = False\n",
    "            \n",
    "    if r == True and c == True:\n",
    "        for x in range(len(M)):\n",
    "            for y in range(len(M[x])):\n",
    "                M[x][y] = M[x][y] + N[x][y]\n",
    "        return M\n",
    "    else:\n",
    "        return None\n",
    "\n",
    "# Test\n",
    "M = [[4,5],[3,1],[1,2]]\n",
    "N = [[4,3],[1,4],[5,3]]\n",
    "res = add(M,N)\n",
    "print res"
   ]
  },
  {
   "cell_type": "code",
   "execution_count": 51,
   "metadata": {},
   "outputs": [
    {
     "name": "stdout",
     "output_type": "stream",
     "text": [
      "[[0, -1], [-4, 0], [3, -3]]\n"
     ]
    }
   ],
   "source": [
    "# 4 d\n",
    "\n",
    "def sub(M,N):\n",
    "    row = False\n",
    "    col = True\n",
    "    if len(M) == len(N):\n",
    "        row = True\n",
    "\n",
    "        \n",
    "    for x in range(len(M)):\n",
    "        if len(M[x]) != len(N[x]):\n",
    "            col = False\n",
    "            \n",
    "    if row == True and col == True:\n",
    "        for x in range(len(M)):\n",
    "            for y in range(len(M[x])):\n",
    "                M[x][y] = M[x][y] - N[x][y]\n",
    "        return M\n",
    "    else:\n",
    "        return None\n",
    "\n",
    "# Test\n",
    "M = [[4,2],[2,4],[5,2]]\n",
    "N = [[4,3],[6,4],[2,5]]\n",
    "lis = sub(M,N)\n",
    "print lis"
   ]
  },
  {
   "cell_type": "code",
   "execution_count": 54,
   "metadata": {},
   "outputs": [
    {
     "name": "stdout",
     "output_type": "stream",
     "text": [
      "[[4, 6], [3, 8], [9, 10]]\n"
     ]
    }
   ],
   "source": [
    "# 4 e\n",
    "\n",
    "def elementmult(M,N):\n",
    "    row = False\n",
    "    col = True\n",
    "    if len(M) == len(N):\n",
    "        row = True\n",
    "        \n",
    "    for x in range(len(M)):\n",
    "        if len(M[x]) != len(N[x]):\n",
    "            col = False\n",
    "            \n",
    "    if row == True and col == True:\n",
    "        for x in range(len(M)):\n",
    "            for y in range(len(M[x])):\n",
    "                M[x][y] = M[x][y] * N[x][y]\n",
    "        return M\n",
    "    else:\n",
    "        return None\n",
    "\n",
    "# Test\n",
    "M = [[2,2],[3,2],[3,5]]\n",
    "N = [[2,3],[1,4],[3,2]]\n",
    "lis = elementmult(M,N)\n",
    "print lis"
   ]
  }
 ],
 "metadata": {
  "kernelspec": {
   "display_name": "Python 2",
   "language": "python",
   "name": "python2"
  },
  "language_info": {
   "codemirror_mode": {
    "name": "ipython",
    "version": 2
   },
   "file_extension": ".py",
   "mimetype": "text/x-python",
   "name": "python",
   "nbconvert_exporter": "python",
   "pygments_lexer": "ipython2",
   "version": "2.7.13"
  }
 },
 "nbformat": 4,
 "nbformat_minor": 2
}
